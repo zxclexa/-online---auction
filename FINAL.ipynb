{
 "cells": [
  {
   "cell_type": "markdown",
   "id": "e3f94e53-c4f4-4c5b-8c47-c79beb631b6c",
   "metadata": {},
   "source": [
    "# Try…Except \n",
    "### Блок try позволяет проверить блок кода на ошибки.\n",
    "### Блок except обрабатывает ошибку.\n",
    "### Блок finally позволяет выполнять код, независимо от результата блоков try и except.\n",
    "Когда возникает ошибка или исключение, как его еще называют, Python обычно останавливает работу и генерирует сообщение об ошибке.\n",
    "\n",
    "Эти исключения можно обрабатывать с помощью оператора try:\n",
    "Блок try генерирует исключение, потому что x не объявлен:"
   ]
  },
  {
   "cell_type": "code",
   "execution_count": 1,
   "id": "df3d86c4-ca09-440a-8afc-6408c8e655e3",
   "metadata": {},
   "outputs": [
    {
     "name": "stdout",
     "output_type": "stream",
     "text": [
      "Ошибка\n"
     ]
    }
   ],
   "source": [
    "try:\n",
    "    print(x)\n",
    "except:\n",
    "    print(\"Ошибка\")"
   ]
  },
  {
   "cell_type": "markdown",
   "id": "254f30e1-e83f-4aa0-9c15-aff7c1ede81f",
   "metadata": {},
   "source": [
    "Поскольку блок try вызывает ошибку, будет выполнен блок except. Без блока try программа остановится и вызовет ошибку:"
   ]
  },
  {
   "cell_type": "code",
   "execution_count": 2,
   "id": "3cb66773-fdc0-4cea-9971-407d39c4f419",
   "metadata": {},
   "outputs": [
    {
     "ename": "NameError",
     "evalue": "name 'x' is not defined",
     "output_type": "error",
     "traceback": [
      "\u001b[0;31m---------------------------------------------------------------------------\u001b[0m",
      "\u001b[0;31mNameError\u001b[0m                                 Traceback (most recent call last)",
      "Cell \u001b[0;32mIn[2], line 1\u001b[0m\n\u001b[0;32m----> 1\u001b[0m \u001b[38;5;28mprint\u001b[39m(x)\n",
      "\u001b[0;31mNameError\u001b[0m: name 'x' is not defined"
     ]
    }
   ],
   "source": [
    "print(x)"
   ]
  },
  {
   "cell_type": "markdown",
   "id": "a955ba1e-1793-4947-b694-9e28a02a49c8",
   "metadata": {},
   "source": [
    "### Finally\n",
    "Блок finally, если указан, будет выполняться независимо от того, возникает ошибка в блоке try или нет."
   ]
  },
  {
   "cell_type": "code",
   "execution_count": 3,
   "id": "7518ea11-e6e8-4aa7-8f0d-49db6218254d",
   "metadata": {},
   "outputs": [
    {
     "name": "stdout",
     "output_type": "stream",
     "text": [
      "Что-то пошло не так\n",
      "Блок 'try except' завершен\n"
     ]
    }
   ],
   "source": [
    "try:\n",
    "    print(x)\n",
    "except:\n",
    "    print(\"Что-то пошло не так\")\n",
    "finally:\n",
    "    print(\"Блок 'try except' завершен\")"
   ]
  },
  {
   "cell_type": "markdown",
   "id": "8ba471ef-7080-49c6-ae3e-3ffe4d831f41",
   "metadata": {},
   "source": [
    "Это может быть полезно для закрытия файлов и очистки ресурсов.\n",
    "Попробуем открыть и записать в файл, который не доступен для записи:"
   ]
  },
  {
   "cell_type": "code",
   "execution_count": 4,
   "id": "787d9947-e953-46d5-b007-610e95b1b895",
   "metadata": {},
   "outputs": [
    {
     "name": "stdout",
     "output_type": "stream",
     "text": [
      "Что-то пошло не так при записи в файл\n"
     ]
    },
    {
     "ename": "NameError",
     "evalue": "name 'f' is not defined",
     "output_type": "error",
     "traceback": [
      "\u001b[0;31m---------------------------------------------------------------------------\u001b[0m",
      "\u001b[0;31mNameError\u001b[0m                                 Traceback (most recent call last)",
      "Cell \u001b[0;32mIn[4], line 7\u001b[0m\n\u001b[1;32m      5\u001b[0m     \u001b[38;5;28mprint\u001b[39m(\u001b[38;5;124m\"\u001b[39m\u001b[38;5;124mЧто-то пошло не так при записи в файл\u001b[39m\u001b[38;5;124m\"\u001b[39m)\n\u001b[1;32m      6\u001b[0m \u001b[38;5;28;01mfinally\u001b[39;00m:\n\u001b[0;32m----> 7\u001b[0m     f\u001b[38;5;241m.\u001b[39mclose()\n",
      "\u001b[0;31mNameError\u001b[0m: name 'f' is not defined"
     ]
    }
   ],
   "source": [
    "try:\n",
    "    f = open(\"demofile.txt\") # фал должен быть создан, иначе исключение FileNotFound\n",
    "    f.write(\"Lorum Ipsum\")\n",
    "except: \n",
    "    print(\"Что-то пошло не так при записи в файл\")\n",
    "finally:\n",
    "    f.close()"
   ]
  },
  {
   "cell_type": "markdown",
   "id": "39b620fb-01fe-44f2-8e05-dd676856b2c0",
   "metadata": {},
   "source": [
    "Программа будет работать и закроет файл."
   ]
  },
  {
   "cell_type": "markdown",
   "id": "61d181ea-932e-4a20-8b4d-576110b6ceac",
   "metadata": {},
   "source": [
    "### RegEx\n",
    "В Python есть встроенный модуль re, который можно использовать для работы с регулярными выражениями.\n",
    "Найдем строку, чтобы увидеть, начинается ли она с «The» и заканчивается «Spain»:"
   ]
  },
  {
   "cell_type": "code",
   "execution_count": 6,
   "id": "f4a6daec-69a6-41d9-91fb-eadb71227777",
   "metadata": {},
   "outputs": [
    {
     "name": "stdout",
     "output_type": "stream",
     "text": [
      "<re.Match object; span=(0, 17), match='The rain in Spain'>\n"
     ]
    }
   ],
   "source": [
    "import re\n",
    "txt =  \"The rain in Spain\"\n",
    "x = re.search(\"^The.*Spain$\", txt)\n",
    "print(x)"
   ]
  },
  {
   "cell_type": "markdown",
   "id": "0ab74028-7e98-468a-abba-38243b397c8e",
   "metadata": {},
   "source": [
    "### Функции модуля Re\n",
    "Модуль re предлагает набор функций, которые позволяют нам искать строку на предмет соответствия:"
   ]
  },
  {
   "cell_type": "raw",
   "id": "25b44ce7-d97d-47dc-81a7-373f9e853290",
   "metadata": {},
   "source": [
    "Функции\tЗначение\n",
    "findall\tВозвращает список со всеми совпадениями\n",
    "search\tВозвращает объект Match, если в строке есть совпадение\n",
    "split\tВозвращает список, из строки, которую разделили по шаблону\n",
    "sub\tЗаменяет совпадение по шаблону, на заданную строку"
   ]
  },
  {
   "cell_type": "markdown",
   "id": "77dbc537-4180-49e8-9af0-492ec823c4d6",
   "metadata": {},
   "source": [
    "### Метасимволы\n",
    "Метасимволы — это символы с особым значением:"
   ]
  },
  {
   "cell_type": "raw",
   "id": "7fb92837-fd2e-467b-a745-9333b124d570",
   "metadata": {},
   "source": [
    "Символ\t         Значение\t                        Пример\n",
    "[]\t    Содержит символы для поиска вхождений     |\t[a-m]\n",
    "\\\t    Сигнализирует о специальном символе       |\t\\d\n",
    "        (также может использоваться для \n",
    "        экранирования специальных символов) \n",
    ".\t    Любой символ, кроме новой строки (\\n)     | “he…o”\n",
    "^\t    Строка начинается с\t                      | “^hello”\n",
    "$\t    Строка заканчивается                      |\t“world$”\n",
    "*\t    0 и более вхождений                       |\t“aix*”\n",
    "+\t    1 и более вхождений                       |\t“aix+”\n",
    "{}\t    Указанное количество вхождений            |\t“al{2}”\n",
    "|\t    Или                                       |\t“falls|stays”\n",
    "()\t    Группирует шаблон\t"
   ]
  },
  {
   "cell_type": "raw",
   "id": "d8983741-c8a9-4d5a-bab4-6d813adb2cab",
   "metadata": {},
   "source": [
    "Специальные пары символов\n",
    "Специальная пара символов представляет собой \\, за которым следует один из символов в списке ниже, и имеет специальное значение:\n",
    "Символ\tЗначение\t                                           Пример\n",
    "\\A\t    Ищет символы в начале строки\t               | “\\AThe”\n",
    "\\b\t    Ищет символы в начале или конец слова,         | r»\\bain» r»ain\\b»\n",
    "        в зависимости от расположения \n",
    "\\B\t    Ищет символы которые находятся НЕ в начале     | r»\\Bain» r»ain\\B»\n",
    "        или конце строки \n",
    "\\d\t    Ищет совпадения с числами 0-9                  | “\\d”\n",
    "\\D\t    Ищет совпадение, где строка не содержит числа  | “\\D”\n",
    "\\s\t    Ищет совпадение с символом пробела\t           | “\\s”\n",
    "\\S\t    Ищет совпадение, где строка НЕ содержит пробел | “\\S”\n",
    "\\w\t    Ищет совпадение, где строка содержит буквы,    | “\\w”\n",
    "        цифры или символ по подчеркивания (_) \n",
    "\\W\t    Ищет совпадение, где строка НЕ содержит буквы, | “\\W”\n",
    "        цифры или символ по подчеркивания (_)\t \n",
    "\\Z\t    Ищет символы в конце строки\t                   | “Spain\\Z”"
   ]
  },
  {
   "cell_type": "markdown",
   "id": "1820e3be-94e3-4a9f-8785-88870a88a4d3",
   "metadata": {},
   "source": [
    "### Комбинации\n",
    "Комбинации — это набор символов внутри пары квадратных скобок [] со специальным значением:"
   ]
  },
  {
   "cell_type": "raw",
   "id": "002be024-328b-464c-bfb9-42d8093d9b12",
   "metadata": {},
   "source": [
    "Комбинации\t     Значение\n",
    "[arn]\t     Возвращает совпадение, в котором присутствует один из указанных символов (a, r или n)\n",
    "[a-n]\t     Возвращает совпадение для с символом нижнего регистра в алфавитном порядке между a и n, включая их\n",
    "[^arn]\t     Возвращает совпадение для любого символа, КРОМЕ а, r и n\n",
    "[0123]\t     Возвращает совпадение, в котором присутствует любая из указанных цифр (0, 1, 2 или 3)\n",
    "[0-9]\t     Возвращает совпадение с любой цифрой от 0 до 9\n",
    "[0-5][0-9]\t Возвращает совпадение с любыми двузначными числами от 0 до 59\n",
    "[a-zA-Z]\t Возвращает совпадение с любым символом английского алфавита между a и z, включая строчные буквы и прописные\n",
    "[а-яА-ЯёЁ]\t Возвращает совпадение с любым символом русского алфавита между а и я, включая строчные буквы и прописные\n",
    "[+]\t         В комбинациях символы +, *, ., |, (), $,{} не имеют особенного значения, поэтому [+]: будет искать любой + в                   строке"
   ]
  },
  {
   "cell_type": "markdown",
   "id": "446edf69-2260-4eb7-8491-99f09c985d06",
   "metadata": {},
   "source": [
    "### Функция findall()\n",
    "Функция findall() возвращает список, содержащий все совпадения."
   ]
  },
  {
   "cell_type": "code",
   "execution_count": 7,
   "id": "fd2e7b98-527b-4284-8e53-422df51d4efd",
   "metadata": {},
   "outputs": [
    {
     "name": "stdout",
     "output_type": "stream",
     "text": [
      "['ai', 'ai']\n"
     ]
    }
   ],
   "source": [
    "import re\n",
    "\n",
    "string = \"The rain in Spain\"\n",
    "x = re.findall(\"ai\",  string)\n",
    "print(x)"
   ]
  },
  {
   "cell_type": "markdown",
   "id": "9fa4c662-d4d3-4fe5-bc7e-c56c5060b331",
   "metadata": {},
   "source": [
    "Список содержит совпадения в порядке их поиска. Если совпадений не найдено, возвращается пустой список."
   ]
  },
  {
   "cell_type": "code",
   "execution_count": 8,
   "id": "a0f45ae9-1038-493d-9e52-944ef73184d6",
   "metadata": {},
   "outputs": [
    {
     "name": "stdout",
     "output_type": "stream",
     "text": [
      "[]\n"
     ]
    }
   ],
   "source": [
    "import re\n",
    "\n",
    "string = \"The rain in Spain\"\n",
    "x = re.findall(\"Portugal\", string)\n",
    "print(x)"
   ]
  },
  {
   "cell_type": "markdown",
   "id": "c06383bc-5951-40bc-a939-20a37587ebf3",
   "metadata": {},
   "source": [
    "### Функция search()\n",
    "Функция search() ищет в строке совпадение и возвращает обьект Match, если оно найдено. \n",
    "Если найдено более одного совпадения, будет возвращено только первое совпадение.\n",
    "Найдем первый символ пробела в строке:"
   ]
  },
  {
   "cell_type": "code",
   "execution_count": 9,
   "id": "72199200-9a05-4f3a-adc0-2262a1aa6310",
   "metadata": {},
   "outputs": [
    {
     "name": "stdout",
     "output_type": "stream",
     "text": [
      "Индекс первого пробела: 3\n"
     ]
    }
   ],
   "source": [
    "import re\n",
    "\n",
    "string = \"The rain in Spain\"\n",
    "x = re.search(\"\\s\", string)\n",
    "print(\"Индекс первого пробела:\", x.start())"
   ]
  },
  {
   "cell_type": "markdown",
   "id": "242a5507-d4f7-4780-becb-b0d116fe026e",
   "metadata": {},
   "source": [
    "### Функция sub()\n",
    "Функция sub() заменяет совпадение указанным текстом.\n",
    "Заменим каждый символ пробела цифрой 9."
   ]
  },
  {
   "cell_type": "code",
   "execution_count": 10,
   "id": "68c5dabb-cc7d-4907-8054-02427327b626",
   "metadata": {},
   "outputs": [
    {
     "name": "stdout",
     "output_type": "stream",
     "text": [
      "The9rain9in9Spain\n"
     ]
    }
   ],
   "source": [
    "import re\n",
    "\n",
    "string = \"The rain in Spain\"\n",
    "x = re.sub(\"\\s\", \"9\", string)\n",
    "print(x)"
   ]
  },
  {
   "cell_type": "markdown",
   "id": "97d7ed9b-4a95-4e84-ad71-585667ac18f1",
   "metadata": {},
   "source": [
    "Вы можете контролировать количество замен, указав параметр count"
   ]
  },
  {
   "cell_type": "code",
   "execution_count": 11,
   "id": "ace6f9d1-f1a5-4628-b480-0930fba24e0c",
   "metadata": {},
   "outputs": [
    {
     "name": "stdout",
     "output_type": "stream",
     "text": [
      "The9rain9in Spain\n"
     ]
    }
   ],
   "source": [
    "import re\n",
    "\n",
    "string = \"The rain in Spain\"\n",
    "x = re.sub(\"\\s\", \"9\", string, 2)\n",
    "print(x)"
   ]
  },
  {
   "cell_type": "markdown",
   "id": "b598ef1f-598a-4703-be18-218ff80acea9",
   "metadata": {},
   "source": [
    "### Объект Match\n",
    "Объект Match — это объект, содержащий информацию о поиске и результат.\n",
    "\n",
    "Примечание: Если совпадений нет, будет возвращено None вместо объекта Match.\n",
    "Выполним поиск, который вернет объект Match."
   ]
  },
  {
   "cell_type": "code",
   "execution_count": 12,
   "id": "c38b4afa-0acf-4155-8a58-abddd958583a",
   "metadata": {},
   "outputs": [
    {
     "name": "stdout",
     "output_type": "stream",
     "text": [
      "<re.Match object; span=(5, 7), match='ai'>\n"
     ]
    }
   ],
   "source": [
    "import re\n",
    "\n",
    "string =  \"The rain in Spain\"\n",
    "x = re.search(\"ai\", string)\n",
    "print(x)  # будет выведен объект"
   ]
  },
  {
   "cell_type": "markdown",
   "id": "d49ea340-5690-4b65-8db8-bed8ad316e3a",
   "metadata": {},
   "source": [
    "У объекта Match есть свойства и методы, используемые для получения информации о поиске и результате:\n",
    "\n",
    ".span() возвращает кортеж, содержащий начальную и конечную позиции совпадения.\n",
    "\n",
    ".string возвращает строку, переданную в функцию.\n",
    "\n",
    ".group() возвращает часть строки, где было совпадение\n",
    "\n",
    "Выведем позицию (начальную и конечную) первого совпадения."
   ]
  },
  {
   "cell_type": "code",
   "execution_count": 13,
   "id": "1e3b4461-e497-4845-85a8-38995bc53529",
   "metadata": {},
   "outputs": [
    {
     "name": "stdout",
     "output_type": "stream",
     "text": [
      "(12, 17)\n"
     ]
    }
   ],
   "source": [
    "import re\n",
    "\n",
    "string = \"The rain in Spain\"\n",
    "x = re.search(r\"\\bS\\w+\", string)\n",
    "print(x.span())"
   ]
  },
  {
   "cell_type": "markdown",
   "id": "ba389ab4-48f3-462a-8843-1e065585eba1",
   "metadata": {},
   "source": [
    "Выведем строку, переданную в функцию."
   ]
  },
  {
   "cell_type": "code",
   "execution_count": 14,
   "id": "6aa28897-ee8c-45dc-b173-caea41cdd7ed",
   "metadata": {},
   "outputs": [
    {
     "name": "stdout",
     "output_type": "stream",
     "text": [
      "The rain in Spain\n"
     ]
    }
   ],
   "source": [
    "import re\n",
    "\n",
    "string = \"The rain in Spain\"  \n",
    "x = re.search(r\"\\bS\\w+\", string)\n",
    "print(x.string)"
   ]
  },
  {
   "cell_type": "markdown",
   "id": "da971511-3eca-4e47-a471-51753eafda22",
   "metadata": {},
   "source": [
    "Выведем часть строки, где было совпадение."
   ]
  },
  {
   "cell_type": "code",
   "execution_count": 15,
   "id": "67cd749a-5311-4d8e-ac6a-df94960a28f4",
   "metadata": {},
   "outputs": [
    {
     "name": "stdout",
     "output_type": "stream",
     "text": [
      "Spain\n"
     ]
    }
   ],
   "source": [
    "import re\n",
    "\n",
    "string = \"The rain in Spain\"\n",
    "x = re.search(r\"\\bS\\w+\", string)  # Слово, которое начинается с S и продолжается буквенными символом\n",
    "print(x.group())"
   ]
  },
  {
   "cell_type": "markdown",
   "id": "56457da8-ad36-4e0b-9ed1-7f2a6e89e10b",
   "metadata": {},
   "source": [
    "# Потоки и многопоточность\n",
    "## Что такое поток?\n",
    "В информатике поток — это минимальная единица работы, запланированная для выполнения операционной системой.\n",
    "\n",
    "О потоках нужно знать следующее:\n",
    "\n",
    "Они существуют внутри процесса;\n",
    "В одном процессе может быть несколько потоков;\n",
    "Потоки в одном процессе разделяют состояние и память родительского процесса.\n",
    "Модуль threading в Python можно представить таким простым примером:"
   ]
  },
  {
   "cell_type": "code",
   "execution_count": 1,
   "id": "f7234db9-825a-454a-8c09-0128f47e8c08",
   "metadata": {},
   "outputs": [
    {
     "name": "stdout",
     "output_type": "stream",
     "text": [
      "Поток 0 засыпает на 5 секунд.\n",
      "Поток 1 засыпает на 5 секунд.\n",
      "\n",
      "\n",
      "Поток 2 засыпает на 5 секунд.\n",
      "\n",
      "Поток 3 засыпает на 5 секунд.\n",
      "\n",
      "Поток 4 засыпает на 5 секунд.\n",
      "\n",
      "Поток 5 засыпает на 5 секунд.\n",
      "\n",
      "Поток 6 засыпает на 5 секунд.\n",
      "\n",
      "Поток 7 засыпает на 5 секунд.\n",
      "\n",
      "Поток 8 засыпает на 5 секунд.\n",
      "\n",
      "Поток 9 засыпает на 5 секунд.\n",
      "\n",
      "Поток 1 сейчас проснулся.\n",
      "Поток 0 сейчас проснулся.\n",
      "\n",
      "\n",
      "Поток 2 сейчас проснулся.\n",
      "\n",
      "Поток 3 сейчас проснулся.\n",
      "\n",
      "Поток 4 сейчас проснулся.\n",
      "\n",
      "Поток 5 сейчас проснулся.\n",
      "\n",
      "Поток 6 сейчас проснулся.\n",
      "\n",
      "Поток 7 сейчас проснулся.\n",
      "\n",
      "Поток 8 сейчас проснулся.\n",
      "\n",
      "Поток 9 сейчас проснулся.\n",
      "\n"
     ]
    }
   ],
   "source": [
    "import time\n",
    "from threading import Thread\n",
    "\n",
    "def sleepMe(i):\n",
    "    print(\"Поток %i засыпает на 5 секунд.\\n\" % i)\n",
    "    time.sleep(5)\n",
    "    print(\"Поток %i сейчас проснулся.\\n\" % i)\n",
    "\n",
    "for i in range(10):\n",
    "    th = Thread(target=sleepMe, args=(i, ))\n",
    "    th.start()"
   ]
  },
  {
   "cell_type": "markdown",
   "id": "ab32ade5-aeaf-4d17-bcf8-b947107d8df9",
   "metadata": {},
   "source": [
    "## Функции threading в Python\n",
    "Возьмем программу из первого примера и воспользуемся ею для демонстрации разных функций модуля.\n",
    "\n",
    "### threading.active_count()\n",
    "\n",
    "Эта функция возвращает количество исполняемых на текущий момент потоков. Изменим последнюю программу, чтобы она выглядела вот так:"
   ]
  },
  {
   "cell_type": "code",
   "execution_count": 1,
   "id": "72a72d47-5ca9-417a-ad9c-95e13a06023a",
   "metadata": {},
   "outputs": [
    {
     "name": "stdout",
     "output_type": "stream",
     "text": [
      "Поток 0 засыпает на 5 секунд.Запущено потоков: 9.\n",
      "Поток 1 засыпает на 5 секунд.\n",
      "Запущено потоков: 10.\n",
      "Поток 2 засыпает на 5 секунд.\n",
      "Запущено потоков: 11.\n",
      "Поток 3 засыпает на 5 секунд.\n",
      "\n",
      "Запущено потоков: 12.\n",
      "Поток 4 засыпает на 5 секунд.\n",
      "Запущено потоков: 13.\n",
      "Поток 5 засыпает на 5 секунд.\n",
      "Запущено потоков: 14.\n",
      "Поток 6 засыпает на 5 секунд.\n",
      "Запущено потоков: 15.\n",
      "Поток 7 засыпает на 5 секунд.\n",
      "Запущено потоков: 16.\n",
      "Поток 8 засыпает на 5 секунд.\n",
      "Запущено потоков: 17.\n",
      "Поток 9 засыпает на 5 секунд.\n",
      "Запущено потоков: 18.\n",
      "Поток 5 сейчас проснулся.Поток 0 сейчас проснулся.\n",
      "Поток 1 сейчас проснулся.\n",
      "Поток 2 сейчас проснулся.\n",
      "Поток 3 сейчас проснулся.\n",
      "Поток 6 сейчас проснулся.\n",
      "Поток 8 сейчас проснулся.\n",
      "Поток 9 сейчас проснулся.\n",
      "\n",
      "Поток 4 сейчас проснулся.\n",
      "Поток 7 сейчас проснулся.\n"
     ]
    }
   ],
   "source": [
    "import time\n",
    "import threading\n",
    "from threading import Thread\n",
    "\n",
    "def sleepMe(i):\n",
    "    print(\"Поток %i засыпает на 5 секунд.\" % i)\n",
    "    time.sleep(5)\n",
    "    print(\"Поток %i сейчас проснулся.\" % i)\n",
    "\n",
    "for i in range(10):\n",
    "    th = Thread(target=sleepMe, args=(i, ))\n",
    "    th.start()\n",
    "    print(\"Запущено потоков: %i.\" % threading.active_count())"
   ]
  },
  {
   "cell_type": "markdown",
   "id": "f2e638bd-7243-4343-aef9-3752527704c6",
   "metadata": {},
   "source": [
    "### threading.current_thread()\n",
    "Эта функция возвращает исполняемый прямо сейчас поток. С ее помощью можно выполнять определенные действия с ним. Поменяем все тот же скрипт:"
   ]
  },
  {
   "cell_type": "code",
   "execution_count": 2,
   "id": "93c7cc74-5106-4286-90f2-09a44d741008",
   "metadata": {},
   "outputs": [
    {
     "name": "stdout",
     "output_type": "stream",
     "text": [
      "Поток <Thread(Thread-15 (sleepMe), started 6267793408)> засыпает на 5 секунд.\n",
      "\n",
      "Поток <Thread(Thread-16 (sleepMe), started 6284619776)> засыпает на 5 секунд.\n",
      "\n",
      "Поток <Thread(Thread-17 (sleepMe), started 6301446144)> засыпает на 5 секунд.\n",
      "\n",
      "Поток <Thread(Thread-18 (sleepMe), started 6318272512)> засыпает на 5 секунд.\n",
      "\n",
      "Поток <Thread(Thread-19 (sleepMe), started 6335098880)> засыпает на 5 секунд.\n",
      "\n",
      "Поток <Thread(Thread-20 (sleepMe), started 6351925248)> засыпает на 5 секунд.\n",
      "\n",
      "Поток <Thread(Thread-21 (sleepMe), started 6368751616)> засыпает на 5 секунд.\n",
      "\n",
      "Поток <Thread(Thread-22 (sleepMe), started 6385577984)> засыпает на 5 секунд.\n",
      "\n",
      "Поток <Thread(Thread-23 (sleepMe), started 6402404352)> засыпает на 5 секунд.\n",
      "\n",
      "Поток <Thread(Thread-24 (sleepMe), started 6419230720)> засыпает на 5 секунд.\n",
      "\n",
      "Поток <Thread(Thread-22 (sleepMe), started 6385577984)> сейчас проснулся.Поток <Thread(Thread-24 (sleepMe), started 6419230720)> сейчас проснулся.\n",
      "\n",
      "Поток <Thread(Thread-16 (sleepMe), started 6284619776)> сейчас проснулся.\n",
      "Поток <Thread(Thread-18 (sleepMe), started 6318272512)> сейчас проснулся.\n",
      "Поток <Thread(Thread-19 (sleepMe), started 6335098880)> сейчас проснулся.\n",
      "Поток <Thread(Thread-20 (sleepMe), started 6351925248)> сейчас проснулся.\n",
      "Поток <Thread(Thread-21 (sleepMe), started 6368751616)> сейчас проснулся.\n",
      "Поток <Thread(Thread-23 (sleepMe), started 6402404352)> сейчас проснулся.\n",
      "Поток <Thread(Thread-15 (sleepMe), started 6267793408)> сейчас проснулся.\n",
      "Поток <Thread(Thread-17 (sleepMe), started 6301446144)> сейчас проснулся.\n"
     ]
    }
   ],
   "source": [
    "import time\n",
    "import threading\n",
    "from threading import Thread\n",
    "\n",
    "def sleepMe(i):\n",
    "    print(\"Поток %s засыпает на 5 секунд.\\n\" % threading.current_thread())\n",
    "    time.sleep(5)\n",
    "    print(\"Поток %s сейчас проснулся.\" % threading.current_thread())\n",
    "\n",
    "# Cоздаем только четыре потока\n",
    "for i in range(10):\n",
    "    th = Thread(target=sleepMe, args=(i, ))\n",
    "    th.start()"
   ]
  },
  {
   "cell_type": "markdown",
   "id": "c94d3ba3-7c15-4045-ac04-fd51bb2f6c1f",
   "metadata": {},
   "source": [
    "### threading.main_thread()\n",
    "Эта функция возвращает основной поток программы. Именно из него создаются новые потоки."
   ]
  },
  {
   "cell_type": "code",
   "execution_count": 3,
   "id": "eaf56850-fa32-45ea-986e-37b09b91c637",
   "metadata": {},
   "outputs": [
    {
     "name": "stdout",
     "output_type": "stream",
     "text": [
      "<_MainThread(MainThread, started 8307953472)>\n"
     ]
    }
   ],
   "source": [
    "import threading\n",
    "print(threading.main_thread())"
   ]
  },
  {
   "cell_type": "markdown",
   "id": "e43f53cb-588b-4695-a148-2ed00a566d8f",
   "metadata": {},
   "source": [
    "### threading.enumerate()\n",
    "Эта функция возвращает список всех активных потоков. Пользоваться ею проще простого:"
   ]
  },
  {
   "cell_type": "code",
   "execution_count": 2,
   "id": "c75ba8e4-9ec4-4ea1-9b10-dcf6597c684a",
   "metadata": {},
   "outputs": [
    {
     "name": "stdout",
     "output_type": "stream",
     "text": [
      "Имя потока MainThread.\n",
      "Имя потока IOPub.\n",
      "Имя потока Heartbeat.\n",
      "Имя потока Thread-3 (_watch_pipe_fd).\n",
      "Имя потока Thread-4 (_watch_pipe_fd).\n",
      "Имя потока Control.\n",
      "Имя потока IPythonHistorySavingThread.\n",
      "Имя потока Thread-2.\n"
     ]
    },
    {
     "name": "stderr",
     "output_type": "stream",
     "text": [
      "/var/folders/2t/qrfpf64n12j5zf9_gl_6pwgr0000gn/T/ipykernel_71735/2198427128.py:3: DeprecationWarning: getName() is deprecated, get the name attribute instead\n",
      "  print(\"Имя потока %s.\" % thread.getName())\n"
     ]
    }
   ],
   "source": [
    "import threading\n",
    "for thread in threading.enumerate():\n",
    "    print(\"Имя потока %s.\" % thread.getName())"
   ]
  },
  {
   "cell_type": "markdown",
   "id": "d425321c-affe-4893-b34e-2a2c69e14680",
   "metadata": {},
   "source": [
    "### threading.Timer()\n",
    "Эта функция модуля threading используется для создания нового потока и указания времени, через которое он должен запуститься. После запуска поток вызывает определенную функцию. Разберем на примере:"
   ]
  },
  {
   "cell_type": "code",
   "execution_count": 3,
   "id": "327d2d3b-f02f-452f-b552-f8fbc120dbf4",
   "metadata": {},
   "outputs": [
    {
     "name": "stdout",
     "output_type": "stream",
     "text": [
      "Вывод через 5 секунд!\n"
     ]
    }
   ],
   "source": [
    "import threading\n",
    "\n",
    "def delayed():\n",
    "    print(\"Вывод через 5 секунд!\")\n",
    "\n",
    "thread = threading.Timer(5, delayed)\n",
    "thread.start()"
   ]
  },
  {
   "cell_type": "markdown",
   "id": "35349bcf-2f80-4f7f-8a97-6ab66142d5fa",
   "metadata": {},
   "source": [
    "# Инструкция assert\n",
    "\n",
    "Инструкции assert в Python — это булевы выражения, которые проверяют, является ли условие истинным (True). Они определяют факты (утверждения) в программе. Assertion — это проверка, которую можно включить, а затем выключить, завершив тестирование программы.\n",
    "\n",
    "Возьмем простой пример функции деления. Можно быть уверенным в том, что делитель не должен быть нолем. Это и указывается при тестировании. Разберем этот пример позже.\n",
    "\n",
    "### Что такое Assertion (утверждение)\n",
    "Assertions (утверждения) — это инструкции, которые «утверждают» определенный кейс в программе. В Python они выступают булевыми выражениями, которые проверяют, является ли условие истинным или ложным. Если оно истинно, то программа ничего не делает и переходит к выполнению следующей строчки кода.\n",
    "\n",
    "Но если оно ложно, то программа останавливается и возвращает ошибку.\n",
    "\n",
    "Следующий синтаксис — это базовая структура инструкций утверждения в Python."
   ]
  },
  {
   "cell_type": "code",
   "execution_count": 7,
   "id": "0845c397-590b-4521-b685-7a24744202c9",
   "metadata": {},
   "outputs": [
    {
     "ename": "NameError",
     "evalue": "name 'condition' is not defined",
     "output_type": "error",
     "traceback": [
      "\u001b[0;31m---------------------------------------------------------------------------\u001b[0m",
      "\u001b[0;31mNameError\u001b[0m                                 Traceback (most recent call last)",
      "Cell \u001b[0;32mIn[7], line 1\u001b[0m\n\u001b[0;32m----> 1\u001b[0m \u001b[38;5;28;01massert\u001b[39;00m condition\n",
      "\u001b[0;31mNameError\u001b[0m: name 'condition' is not defined"
     ]
    }
   ],
   "source": [
    "assert condition"
   ]
  },
  {
   "cell_type": "markdown",
   "id": "521410f5-2d4a-408e-bb76-a4efe8689202",
   "metadata": {},
   "source": [
    "Если же нужно добавить сообщение для вывода при ложном условии, то синтаксис будет таким."
   ]
  },
  {
   "cell_type": "code",
   "execution_count": 8,
   "id": "11fdba9b-b74d-484f-bbaf-85c6c3cdadeb",
   "metadata": {},
   "outputs": [
    {
     "ename": "NameError",
     "evalue": "name 'condition' is not defined",
     "output_type": "error",
     "traceback": [
      "\u001b[0;31m---------------------------------------------------------------------------\u001b[0m",
      "\u001b[0;31mNameError\u001b[0m                                 Traceback (most recent call last)",
      "Cell \u001b[0;32mIn[8], line 1\u001b[0m\n\u001b[0;32m----> 1\u001b[0m \u001b[38;5;28;01massert\u001b[39;00m condition, message\n",
      "\u001b[0;31mNameError\u001b[0m: name 'condition' is not defined"
     ]
    }
   ],
   "source": [
    "assert condition, message"
   ]
  },
  {
   "cell_type": "markdown",
   "id": "4145c6a8-a9c5-41f9-95f3-426000135ed4",
   "metadata": {},
   "source": [
    "## Пример assert\n",
    "Если нужно симулировать или выполнить отладку кода, чтобы узнать, что именно происходит на определенном этапе, то «утверждения» в Python отлично для этого подходят.\n",
    "\n",
    "Именно инструмент отладки останавливает программу, как только возникает какая-то ошибка. Он также показывает, где именно она произошла.\n",
    "\n",
    "Инструкция assert принимает выражение и необязательное сообщение;\n",
    "Она используется для проверки типов, значений аргумента и вывода функции;\n",
    "А также для отладки, поскольку приостанавливает программу в случае ошибки.\n",
    "Вот пример работы утверждений в Python."
   ]
  },
  {
   "cell_type": "code",
   "execution_count": 9,
   "id": "05d252e3-e0d1-4347-b743-952a87c11bf0",
   "metadata": {},
   "outputs": [
    {
     "name": "stdout",
     "output_type": "stream",
     "text": [
      "Среднее значение: 67.33\n"
     ]
    }
   ],
   "source": [
    "def avg(ranks):\n",
    "    assert len(ranks) != 0\n",
    "    return round(sum(ranks)/len(ranks), 2)\n",
    "\n",
    "ranks = [62, 65, 75]\n",
    "print(\"Среднее значение:\", avg(ranks))"
   ]
  },
  {
   "cell_type": "markdown",
   "id": "31ec68d0-a6d9-453c-bd04-0bb6137c8373",
   "metadata": {},
   "source": [
    "В этом примере нужно, чтобы пользователь не оставлял параметры пустыми. Если этого не сделать, вернется ошибка Assertion Error. Попробуем ничего не передавать:"
   ]
  },
  {
   "cell_type": "code",
   "execution_count": 10,
   "id": "09a5b925-5a92-4d51-a5d3-df6b124eb59e",
   "metadata": {},
   "outputs": [
    {
     "ename": "AssertionError",
     "evalue": "",
     "output_type": "error",
     "traceback": [
      "\u001b[0;31m---------------------------------------------------------------------------\u001b[0m",
      "\u001b[0;31mAssertionError\u001b[0m                            Traceback (most recent call last)",
      "Cell \u001b[0;32mIn[10], line 6\u001b[0m\n\u001b[1;32m      3\u001b[0m     \u001b[38;5;28;01mreturn\u001b[39;00m \u001b[38;5;28mround\u001b[39m(\u001b[38;5;28msum\u001b[39m(ranks)\u001b[38;5;241m/\u001b[39m\u001b[38;5;28mlen\u001b[39m(ranks), \u001b[38;5;241m2\u001b[39m)\n\u001b[1;32m      5\u001b[0m ranks \u001b[38;5;241m=\u001b[39m []\n\u001b[0;32m----> 6\u001b[0m \u001b[38;5;28mprint\u001b[39m(\u001b[38;5;124m\"\u001b[39m\u001b[38;5;124mСреднее значение:\u001b[39m\u001b[38;5;124m\"\u001b[39m, avg(ranks))\n",
      "Cell \u001b[0;32mIn[10], line 2\u001b[0m, in \u001b[0;36mavg\u001b[0;34m(ranks)\u001b[0m\n\u001b[1;32m      1\u001b[0m \u001b[38;5;28;01mdef\u001b[39;00m \u001b[38;5;21mavg\u001b[39m(ranks):\n\u001b[0;32m----> 2\u001b[0m     \u001b[38;5;28;01massert\u001b[39;00m \u001b[38;5;28mlen\u001b[39m(ranks) \u001b[38;5;241m!=\u001b[39m \u001b[38;5;241m0\u001b[39m\n\u001b[1;32m      3\u001b[0m     \u001b[38;5;28;01mreturn\u001b[39;00m \u001b[38;5;28mround\u001b[39m(\u001b[38;5;28msum\u001b[39m(ranks)\u001b[38;5;241m/\u001b[39m\u001b[38;5;28mlen\u001b[39m(ranks), \u001b[38;5;241m2\u001b[39m)\n",
      "\u001b[0;31mAssertionError\u001b[0m: "
     ]
    }
   ],
   "source": [
    "def avg(ranks):\n",
    "    assert len(ranks) != 0\n",
    "    return round(sum(ranks)/len(ranks), 2)\n",
    "\n",
    "ranks = []\n",
    "print(\"Среднее значение:\", avg(ranks))"
   ]
  },
  {
   "cell_type": "markdown",
   "id": "a8e6aab7-8489-4bb5-92d2-81774b9126ca",
   "metadata": {},
   "source": [
    "Исключения Assertion Error можно перехватывать и обрабатывать как и любые другие исключения с помощью try-except. Но если их обработать неправильно, то программа остановится и вернет traceback.\n",
    "\n",
    "Однако в примере выше она не возвращает ошибку с нужным сообщением. Ее можно написать самостоятельно. Вторым аргументом к assert в примере ниже было передано сообщение, которое позже появится в выводе."
   ]
  },
  {
   "cell_type": "code",
   "execution_count": 12,
   "id": "0a40c3ec-fe4c-4799-bd50-de12ab2778b5",
   "metadata": {},
   "outputs": [
    {
     "ename": "AssertionError",
     "evalue": "Список ranks не должен быть пустым",
     "output_type": "error",
     "traceback": [
      "\u001b[0;31m---------------------------------------------------------------------------\u001b[0m",
      "\u001b[0;31mAssertionError\u001b[0m                            Traceback (most recent call last)",
      "Cell \u001b[0;32mIn[12], line 6\u001b[0m\n\u001b[1;32m      3\u001b[0m     \u001b[38;5;28;01mreturn\u001b[39;00m \u001b[38;5;28mround\u001b[39m(\u001b[38;5;28msum\u001b[39m(ranks)\u001b[38;5;241m/\u001b[39m\u001b[38;5;28mlen\u001b[39m(ranks), \u001b[38;5;241m2\u001b[39m)\n\u001b[1;32m      5\u001b[0m ranks \u001b[38;5;241m=\u001b[39m []\n\u001b[0;32m----> 6\u001b[0m \u001b[38;5;28mprint\u001b[39m(\u001b[38;5;124m\"\u001b[39m\u001b[38;5;124mСреднее значение:\u001b[39m\u001b[38;5;124m\"\u001b[39m, avg(ranks))\n",
      "Cell \u001b[0;32mIn[12], line 2\u001b[0m, in \u001b[0;36mavg\u001b[0;34m(ranks)\u001b[0m\n\u001b[1;32m      1\u001b[0m \u001b[38;5;28;01mdef\u001b[39;00m \u001b[38;5;21mavg\u001b[39m(ranks):\n\u001b[0;32m----> 2\u001b[0m     \u001b[38;5;28;01massert\u001b[39;00m \u001b[38;5;28mlen\u001b[39m(ranks) \u001b[38;5;241m!=\u001b[39m \u001b[38;5;241m0\u001b[39m, \u001b[38;5;124m'\u001b[39m\u001b[38;5;124mСписок ranks не должен быть пустым\u001b[39m\u001b[38;5;124m'\u001b[39m\n\u001b[1;32m      3\u001b[0m     \u001b[38;5;28;01mreturn\u001b[39;00m \u001b[38;5;28mround\u001b[39m(\u001b[38;5;28msum\u001b[39m(ranks)\u001b[38;5;241m/\u001b[39m\u001b[38;5;28mlen\u001b[39m(ranks), \u001b[38;5;241m2\u001b[39m)\n",
      "\u001b[0;31mAssertionError\u001b[0m: Список ranks не должен быть пустым"
     ]
    }
   ],
   "source": [
    "def avg(ranks):\n",
    "    assert len(ranks) != 0, 'Список ranks не должен быть пустым'\n",
    "    return round(sum(ranks)/len(ranks), 2)\n",
    "\n",
    "ranks = []\n",
    "print(\"Среднее значение:\", avg(ranks))"
   ]
  },
  {
   "cell_type": "markdown",
   "id": "8b1eff4f-7100-49f1-805c-154a475be50d",
   "metadata": {},
   "source": [
    "# Assert с сообщением об ошибке"
   ]
  },
  {
   "cell_type": "code",
   "execution_count": 13,
   "id": "bc4499e7-5243-487d-8ac0-b345b27aebf2",
   "metadata": {},
   "outputs": [
    {
     "name": "stdout",
     "output_type": "stream",
     "text": [
      "7.0\n"
     ]
    },
    {
     "ename": "AssertionError",
     "evalue": "Нельзя делить на 0",
     "output_type": "error",
     "traceback": [
      "\u001b[0;31m---------------------------------------------------------------------------\u001b[0m",
      "\u001b[0;31mAssertionError\u001b[0m                            Traceback (most recent call last)",
      "Cell \u001b[0;32mIn[13], line 8\u001b[0m\n\u001b[1;32m      5\u001b[0m z \u001b[38;5;241m=\u001b[39m divide(\u001b[38;5;241m21\u001b[39m,\u001b[38;5;241m3\u001b[39m)\n\u001b[1;32m      6\u001b[0m \u001b[38;5;28mprint\u001b[39m(z)\n\u001b[0;32m----> 8\u001b[0m a \u001b[38;5;241m=\u001b[39m divide(\u001b[38;5;241m21\u001b[39m,\u001b[38;5;241m0\u001b[39m)\n\u001b[1;32m      9\u001b[0m \u001b[38;5;28mprint\u001b[39m(a)\n",
      "Cell \u001b[0;32mIn[13], line 2\u001b[0m, in \u001b[0;36mdivide\u001b[0;34m(x, y)\u001b[0m\n\u001b[1;32m      1\u001b[0m \u001b[38;5;28;01mdef\u001b[39;00m \u001b[38;5;21mdivide\u001b[39m(x, y):\n\u001b[0;32m----> 2\u001b[0m     \u001b[38;5;28;01massert\u001b[39;00m y \u001b[38;5;241m!=\u001b[39m \u001b[38;5;241m0\u001b[39m , \u001b[38;5;124m'\u001b[39m\u001b[38;5;124mНельзя делить на 0\u001b[39m\u001b[38;5;124m'\u001b[39m\n\u001b[1;32m      3\u001b[0m     \u001b[38;5;28;01mreturn\u001b[39;00m \u001b[38;5;28mround\u001b[39m(x\u001b[38;5;241m/\u001b[39my, \u001b[38;5;241m2\u001b[39m)\n",
      "\u001b[0;31mAssertionError\u001b[0m: Нельзя делить на 0"
     ]
    }
   ],
   "source": [
    "def divide(x, y):\n",
    "    assert y != 0 , 'Нельзя делить на 0'\n",
    "    return round(x/y, 2)\n",
    "\n",
    "z = divide(21,3)\n",
    "print(z)\n",
    "\n",
    "a = divide(21,0)\n",
    "print(a)"
   ]
  },
  {
   "cell_type": "raw",
   "id": "955f47fb-deb9-4a33-90a5-14a4ce6d377a",
   "metadata": {},
   "source": [
    "Методы assert\n",
    "\n",
    "Метод\t              Проверка на\t\n",
    "\n",
    "\n",
    "assertEqual(x, y)\t    x == y\t\n",
    "\n",
    "assertNotEqual(x, y)    x != y\t\n",
    "\n",
    "assertTrue(x)\t        bool(x) равно True\t\n",
    "\n",
    "assertFalse(x)\t        bool(x) равно False\t\n",
    "\n",
    "assertIs(x, y)\t        x это y\t\n",
    "\n",
    "assertIsNot(x, y)\t    x это не y\t\n",
    "\n",
    "assertIsNone(x)\t        x это None\t\n",
    "\n",
    "assertIsNotNone(x)\t    x это не None\t\n",
    "\n",
    "assertIn(x, y)\t        x в y\t\n",
    "\n",
    "assertNotIn(x, y)\t    x не в y\t\n",
    "\n",
    "assertIsInstance(x, y)  isinstance(x, y)\t\n",
    "\n",
    "assertNotIsInstance(x,y) не isinstance(x, y)\t\n"
   ]
  },
  {
   "cell_type": "markdown",
   "id": "5188d530-0aa4-4bbf-9de8-8bde76d172ee",
   "metadata": {},
   "source": [
    "### Распространенные ошибки\n",
    "Есть два важных момента касательно утверждений в Python, о которых нужно помнить.\n",
    "\n",
    "- Не стоит использовать assert для валидации данных, ведь это приводит к появлению проблем с безопасностью и багов.\n",
    "- Важно не писать такие утверждения, которые всегда будут истинными.\n",
    "\n",
    "# Ключевые моменты assert в Python\n",
    "### Утверждение (Assertion) — это условие или булево выражение, которое должно быть истинным.\n",
    "### Инструкция assert принимает выражение и необязательное сообщение.\n",
    "### Инструкция assert используется для проверки типов, значений аргументов и вывода функций.\n",
    "### Это также инструмент для отладки, ведь он останавливает программу при появлении ошибки.\n",
    "### В первую очередь утверждения используются для уведомления разработчиков о неотслеживаемых ошибках. Они не должны сообщать об условия ошибок, таких как «файл не был найден», где пользователь может попытаться исправиться и повторить действия.\n",
    "### Утверждения — это внутренняя проверка для программы. Они работают за счет объявления невозможных условий в коде. Если эти условия не проходят, значит имеется баг."
   ]
  },
  {
   "cell_type": "markdown",
   "id": "cfb7daed-6f8d-4bd5-99c7-ac51332a1fca",
   "metadata": {},
   "source": [
    "# Варианты\n",
    "### 1. Система управления библиотекой\n",
    "Разработка системы для управления библиотечными операциями, такими как выдача книг, возврат и управление фондами.\n",
    "BPMN: диаграмма для иллюстрации рабочего процесса выдачи и возврата книг, включая такие события, как проверка доступности книги и управление штрафами за несвоевременный возврат.\n",
    "### 2. Система онлайн-заказа еды\n",
    "Создание приложения, в котором пользователи могут просматривать меню, размещать заказы и отслеживать статус доставки.\n",
    "BPMN: диаграмма для моделирования процесса размещения заказа, обработки платежей и отслеживания этапов выполнения заказа, выделяя такие точки принятия решений, как подтверждение оплаты и обновление статуса заказа.\n",
    "### 3. Система бронирования билетов на мероприятия\n",
    "Создание системы, позволяющей пользователям просматривать мероприятия, приобретать билеты и получать подтверждения.\n",
    "BPMN: диаграмма BPMN для представления рабочего процесса покупки билетов, включая регистрацию пользователя, выбор мероприятия, обработку платежей и выдачу билетов.\n",
    "### 4. Система управления школой\n",
    "Разработка платформы для управления зачислением учащихся, оценками и посещаемостью.\n",
    "BPMN: моделирование описанного выше процесса.\n",
    "### 5. Платформа электронного обучения\n",
    "Разработка платформы для онлайн-курсов, на которых пользователи могут регистрироваться, проходить тесты и отслеживать прогресс изучения предметов.\n",
    "BPMN: диаграмма для иллюстрации процесса регистрации на курс и рабочего процесса прохождения тестов.\n",
    "### 6. Система бронирования путешествий\n",
    "Создание приложения для пользователей для поиска рейсов, бронирования билетов и управления маршрутами.\n",
    "Диаграмма BPMN для соответствующего процесса.\n",
    "### 7. Система онлайн-аукционов\n",
    "Разработка аукционной платформы, на которой пользователи могут выставлять лоты для торгов и делать ставки на лоты.\n",
    "BPMN: диаграмма для иллюстрации процесса выставления лотов на аукцион и рабочего процесса торгов."
   ]
  },
  {
   "cell_type": "markdown",
   "id": "0e742b06-e73c-4512-8f83-721508e66d01",
   "metadata": {},
   "source": [
    "# ФИНАЛЬНОЕ ЗАДАНИЕ ( по вариантам)\n",
    "\n",
    "### 1. Реализовать необходимые классы и методы.\n",
    "### 2. Разработать BPMN диаграмму соответствующего бизнес-процесса (пулы, дорожки).\n",
    "### 3. В процессе разработки зафиксировать минимум 4 коммита и 2 ветки.\n",
    "### 4. Залить готовый проект на Github и оформить ReadMe.\n",
    "\n",
    "### *БОНУС: добавить ветку в удаленный репозиторий на Github."
   ]
  },
  {
   "cell_type": "code",
   "execution_count": 1,
   "id": "d7354b34-cca5-49db-940e-16eeae5d5880",
   "metadata": {},
   "outputs": [
    {
     "name": "stdout",
     "output_type": "stream",
     "text": [
      "\n",
      "Лот №1:\n",
      "Название: Картина маслом\n",
      "Описание: Красивый пейзаж\n",
      "Текущая ставка: 100\n",
      "Заканчивается: 2024-03-15 20:00:00\n",
      "\n",
      "\n",
      "Лот №2:\n",
      "Название: Старинная книга\n",
      "Описание: Редкое издание\n",
      "Текущая ставка: 50\n",
      "Заканчивается: 2024-03-10 12:00:00\n",
      "\n",
      "\n",
      "Лот №3:\n",
      "Название: Кофеварка\n",
      "Описание: Новая, в упаковке\n",
      "Текущая ставка: 20\n",
      "Заканчивается: 2024-03-12 18:00:00\n",
      "\n",
      "\n",
      "Лот №4:\n",
      "Название: Набор инструментов\n",
      "Описание: Профессиональный\n",
      "Текущая ставка: 150\n",
      "Заканчивается: 2024-03-14 10:00:00\n",
      "\n",
      "\n",
      "Лот №5:\n",
      "Название: Антикварная ваза\n",
      "Описание: Китайская фарфоровая ваза\n",
      "Текущая ставка: 300\n",
      "Заканчивается: 2024-03-16 15:00:00\n",
      "\n",
      "Время торгов истекло!\n",
      "Время торгов истекло!\n",
      "Время торгов истекло!\n",
      "\n",
      "Лот №1:\n",
      "Название: Картина маслом\n",
      "Описание: Красивый пейзаж\n",
      "Текущая ставка: 100\n",
      "Заканчивается: 2024-03-15 20:00:00\n",
      "\n",
      "\n",
      "Лот №2:\n",
      "Название: Старинная книга\n",
      "Описание: Редкое издание\n",
      "Текущая ставка: 50\n",
      "Заканчивается: 2024-03-10 12:00:00\n",
      "\n",
      "\n",
      "Лот №3:\n",
      "Название: Кофеварка\n",
      "Описание: Новая, в упаковке\n",
      "Текущая ставка: 20\n",
      "Заканчивается: 2024-03-12 18:00:00\n",
      "\n",
      "\n",
      "Лот №4:\n",
      "Название: Набор инструментов\n",
      "Описание: Профессиональный\n",
      "Текущая ставка: 150\n",
      "Заканчивается: 2024-03-14 10:00:00\n",
      "\n",
      "\n",
      "Лот №5:\n",
      "Название: Антикварная ваза\n",
      "Описание: Китайская фарфоровая ваза\n",
      "Текущая ставка: 300\n",
      "Заканчивается: 2024-03-16 15:00:00\n",
      "\n"
     ]
    }
   ],
   "source": [
    "import datetime\n",
    "\n",
    "class Lot:\n",
    "    def __init__(self, title, description, starting_bid, end_time):\n",
    "        self.title = title\n",
    "        self.description = description\n",
    "        self.starting_bid = starting_bid\n",
    "        self.end_time = end_time\n",
    "        self.current_bid = starting_bid\n",
    "        self.highest_bidder = None\n",
    "\n",
    "    def place_bid(self, bid_amount, bidder_name):\n",
    "        if bid_amount > self.current_bid and datetime.datetime.now() < self.end_time:\n",
    "            self.current_bid = bid_amount\n",
    "            self.highest_bidder = bidder_name\n",
    "            print(f\"Ставка {bid_amount} от {bidder_name} принята!\")\n",
    "        elif bid_amount <= self.current_bid:\n",
    "            print(\"Ваша ставка слишком мала!\")\n",
    "        else:\n",
    "            print(\"Время торгов истекло!\")\n",
    "\n",
    "    def __str__(self):\n",
    "        return f\"Название: {self.title}\\nОписание: {self.description}\\nТекущая ставка: {self.current_bid}\\nЗаканчивается: {self.end_time}\\n\"\n",
    "\n",
    "\n",
    "class Auction:\n",
    "    def __init__(self):\n",
    "        self.lots = []\n",
    "\n",
    "    def add_lot(self, lot):\n",
    "        self.lots.append(lot)\n",
    "\n",
    "    def show_lots(self):\n",
    "        for i, lot in enumerate(self.lots):\n",
    "            print(f\"\\nЛот №{i+1}:\\n{lot}\")\n",
    "\n",
    "    def place_bid(self, lot_index, bid_amount, bidder_name):\n",
    "      if 0 <= lot_index < len(self.lots):\n",
    "        self.lots[lot_index].place_bid(bid_amount, bidder_name)\n",
    "      else:\n",
    "        print(\"Неверный номер лота.\")\n",
    "\n",
    "\n",
    "# Создание лотов\n",
    "lot1 = Lot(\"Картина маслом\", \"Красивый пейзаж\", 100, datetime.datetime(2024, 3, 15, 20, 0, 0))\n",
    "lot2 = Lot(\"Старинная книга\", \"Редкое издание\", 50, datetime.datetime(2024, 3, 10, 12, 0, 0))\n",
    "lot3 = Lot(\"Кофеварка\", \"Новая, в упаковке\", 20, datetime.datetime(2024, 3, 12, 18, 0, 0))\n",
    "lot4 = Lot(\"Набор инструментов\", \"Профессиональный\", 150, datetime.datetime(2024, 3, 14, 10, 0, 0))\n",
    "lot5 = Lot(\"Антикварная ваза\", \"Китайская фарфоровая ваза\", 300, datetime.datetime(2024, 3, 16, 15, 0, 0))\n",
    "\n",
    "\n",
    "# Создание аукциона и добавление лотов\n",
    "auction = Auction()\n",
    "auction.add_lot(lot1)\n",
    "auction.add_lot(lot2)\n",
    "auction.add_lot(lot3)\n",
    "auction.add_lot(lot4)\n",
    "auction.add_lot(lot5)\n",
    "\n",
    "#Демонстрация работы\n",
    "auction.show_lots()\n",
    "\n",
    "auction.place_bid(0, 150, \"Иван\") # Ставка на лот 1\n",
    "auction.place_bid(0, 120, \"Петр\") #Ставка меньше текущей\n",
    "auction.place_bid(1, 75, \"Мария\") # Ставка на лот 2\n",
    "auction.show_lots()"
   ]
  },
  {
   "cell_type": "code",
   "execution_count": null,
   "id": "d812292f-3fb8-4236-bca6-9dd8baea9e37",
   "metadata": {},
   "outputs": [],
   "source": []
  }
 ],
 "metadata": {
  "kernelspec": {
   "display_name": "Python 3 (ipykernel)",
   "language": "python",
   "name": "python3"
  },
  "language_info": {
   "codemirror_mode": {
    "name": "ipython",
    "version": 3
   },
   "file_extension": ".py",
   "mimetype": "text/x-python",
   "name": "python",
   "nbconvert_exporter": "python",
   "pygments_lexer": "ipython3",
   "version": "3.13.0"
  }
 },
 "nbformat": 4,
 "nbformat_minor": 5
}
